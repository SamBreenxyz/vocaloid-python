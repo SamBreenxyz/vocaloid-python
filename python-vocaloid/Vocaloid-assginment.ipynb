{
  "cells": [
    {
      "cell_type": "markdown",
      "metadata": {
        "id": "4Y1FYG9MKheu"
      },
      "source": [
        "# Vocaloid Explorer — Interactive Menu, EDA, and Artefacts\n",
        "Run the last cell `run_cli()` to use the interactive menu. Type a number to choose; type `0` to quit.\n",
        "Figures are saved to `figs/` for evidence and shown inline for convenience."
      ],
      "id": "4Y1FYG9MKheu"
    },
    {
      "cell_type": "markdown",
      "metadata": {
        "id": "y5W3kbnFMGdR"
      },
      "source": [
        "### Imports and Random Seed\n",
        "I imported the standard libraries I needed:\n",
        "- `os` and `json` for file handling\n",
        "- `random` for reproducible random choices\n",
        "- `sys` and `types` for creating a compatibility shim\n",
        "- `dataclasses` to define my Song class\n",
        "- `typing` for type hints\n",
        "- `urllib.parse` to safely build YouTube search URLs\n",
        "\n",
        "I also seeded the random generator with 42 so the results are consistent each run."
      ],
      "id": "y5W3kbnFMGdR"
    },
    {
      "cell_type": "code",
      "execution_count": null,
      "metadata": {
        "id": "H1DN_Ed0Khey"
      },
      "outputs": [],
      "source": [
        "\n",
        "import os, json, base64, random, sys, types\n",
        "from dataclasses import dataclass\n",
        "from typing import List, Dict, Optional\n",
        "from urllib.parse import quote_plus\n",
        "\n",
        "import pandas as pd\n",
        "import matplotlib\n",
        "matplotlib.use(\"Agg\")\n",
        "import matplotlib.pyplot as plt\n",
        "from IPython.display import display, HTML\n",
        "\n",
        "# ML (illustrative)\n",
        "from sklearn.preprocessing import OneHotEncoder\n",
        "from sklearn.compose import ColumnTransformer\n",
        "from sklearn.pipeline import Pipeline\n",
        "from sklearn.linear_model import LogisticRegression\n",
        "from sklearn.tree import DecisionTreeClassifier\n",
        "from sklearn.model_selection import train_test_split\n",
        "from sklearn.metrics import accuracy_score\n",
        "\n",
        "random.seed(42)\n",
        "os.makedirs(\"figs\", exist_ok=True)\n"
      ],
      "id": "H1DN_Ed0Khey"
    },
    {
      "cell_type": "code",
      "execution_count": null,
      "metadata": {
        "id": "vKHCVwsiKhe0"
      },
      "outputs": [],
      "source": [
        "\n",
        "def _save_and_show(fig: plt.Figure, fname: str, width: int = 720) -> None:\n",
        "    out = os.path.join(\"figs\", fname)\n",
        "    fig.tight_layout()\n",
        "    fig.savefig(out, dpi=150)\n",
        "    plt.close(fig)\n",
        "    with open(out, \"rb\") as f:\n",
        "        b64 = base64.b64encode(f.read()).decode(\"ascii\")\n",
        "    display(HTML(f'<figure><img src=\"data:image/png;base64,{b64}\" width=\"{width}\"><figcaption>{fname}</figcaption></figure>'))\n",
        "\n",
        "def _text_image(lines: List[str], fname: str) -> None:\n",
        "    fig = plt.figure(figsize=(9, 6))\n",
        "    text = \"\\n\".join(lines)\n",
        "    plt.text(0.01, 0.99, text, va=\"top\", ha=\"left\", family=\"monospace\", fontsize=11)\n",
        "    plt.axis(\"off\")\n",
        "    _save_and_show(fig, fname)\n"
      ],
      "id": "vKHCVwsiKhe0"
    },
    {
      "cell_type": "markdown",
      "metadata": {
        "id": "YqDB5IxkMGdU"
      },
      "source": [
        "### Song Class and Catalogue\n",
        "I created a `Song` class using `@dataclass`. Each Song stores its title, vocaloid, genre, year, and producer.\n",
        "I added a `summary()` method to print a human-readable description.\n",
        "I built my small in-memory catalogue (`song_db`) as a dictionary of Vocaloid → list of Songs.\n",
        "I also created a shim so older code using `import database` still works, by pointing to this catalogue."
      ],
      "id": "YqDB5IxkMGdU"
    },
    {
      "cell_type": "code",
      "execution_count": null,
      "metadata": {
        "id": "5J6G7vyQKhe0"
      },
      "outputs": [],
      "source": [
        "\n",
        "@dataclass\n",
        "class Song:\n",
        "    title: str\n",
        "    vocaloid: str\n",
        "    genre: str\n",
        "    year: int\n",
        "    producer: str = \"Unknown\"\n",
        "\n",
        "    def summary(self) -> str:\n",
        "        \"\"\"One-line human summary for evidence.\"\"\"\n",
        "        return f\"{self.title} — {self.vocaloid} ({self.genre}, {self.year})\"\n",
        "\n",
        "teto_titles: List[str] = [\n",
        "    \"Kasane Territory\",\"Triple Baka Kasane Teto\",\"Fukkireta Kasane Teto\",\"Ochame Kinou Teto cover\",\n",
        "    \"Ura-Omote Lovers Teto cover\",\"Matryoshka Kasane Teto\",\"Senbonzakura Teto cover\",\"Romeo and Cinderella Teto cover\",\n",
        "    \"Ai Kotoba Teto cover\",\"Happy Synthesizer Teto cover\",\"The Disappearance of Hatsune Miku Teto cover\",\"Tell Your World Teto cover\",\n",
        "    \"Meltdown Teto cover\",\"World is Mine Teto cover\",\"Rolling Girl Teto cover\",\"Remote Control Teto cover\",\n",
        "    \"Just Be Friends Teto cover\",\"Magnet Teto cover\",\"PoPiPo Teto cover\",\"SPiCa Teto cover\"\n",
        "]\n",
        "\n",
        "song_db: Dict[str, List[Song]] = {\n",
        "    \"Teto\": [Song(t,\"Teto\",g,y,p) for t,g,y,p in zip(\n",
        "        teto_titles,\n",
        "        [\"Pop\",\"Pop\",\"Rock\",\"Dance\",\"Pop\",\"Rock\",\"Traditional\",\"Pop\",\"Ballad\",\"Dance\",\"Rock\",\"Pop\",\"Ballad\",\"Pop\",\"Rock\",\"Electro\",\"Pop\",\"Duet\",\"Dance\",\"Pop\"],\n",
        "        [2011,2010,2012,2013,2011,2014,2015,2010,2016,2012,2011,2013,2010,2012,2010,2011,2012,2010,2013,2014],\n",
        "        [\"LamazeP\",\"Baka Trio\",\"wowaka\",\"HoneyWorks\",\"DECO*27\",\"Hachi\",\"Kurousa-P\",\"doriko\",\"DECO*27\",\"EasyPop\",\"cosMo\",\"livetune\",\"iroha(sasuke)\",\"ryo\",\"wowaka\",\"kz\",\"DECO*27\",\"minato\",\"LamazeP\",\"kentaro\"]\n",
        "    )],\n",
        "    \"Miku\":[Song(\"World is Mine\",\"Miku\",\"Pop\",2008,\"ryo\"), Song(\"Tell Your World\",\"Miku\",\"Pop\",2011,\"kz\"), Song(\"Senbonzakura\",\"Miku\",\"Traditional\",2011,\"Kurousa-P\")],\n",
        "    \"Rin\":[Song(\"Meltdown\",\"Rin\",\"Ballad\",2008,\"iroha(sasuke)\"), Song(\"Romeo and Cinderella\",\"Rin\",\"Pop\",2009,\"doriko\")],\n",
        "    \"Len\":[Song(\"Remote Control\",\"Len\",\"Electro\",2011,\"kz\")]\n",
        "}\n",
        "\n",
        "# Shim: keep older cells using `import database` working\n",
        "database = types.ModuleType(\"database\")\n",
        "database.song_db = song_db\n",
        "sys.modules[\"database\"] = database\n"
      ],
      "id": "5J6G7vyQKhe0"
    },
    {
      "cell_type": "markdown",
      "metadata": {
        "id": "9FpY2lPiMGdV"
      },
      "source": [
        "### Helper Function: first_two_titles\n",
        "I wrote a helper function `first_two_titles` to demonstrate explicit list slicing. It returns the first two titles for a Vocaloid."
      ],
      "id": "9FpY2lPiMGdV"
    },
    {
      "cell_type": "code",
      "execution_count": null,
      "metadata": {
        "id": "ohadlUMpKhe1"
      },
      "outputs": [],
      "source": [
        "\n",
        "def first_two_titles(vname: str) -> list:\n",
        "    \"\"\"Explicit list slicing example for the rubric.\"\"\"\n",
        "    return [s.title for s in song_db.get(vname, [])][:2]\n"
      ],
      "id": "ohadlUMpKhe1"
    },
    {
      "cell_type": "markdown",
      "metadata": {
        "id": "xgo0yIu2MGdV"
      },
      "source": [
        "### Main Interactive Menu (run_cli)\n",
        "This is the main loop. It:\n",
        "- runs until the user chooses 0\n",
        "- shows a numbered menu\n",
        "- demonstrates conditionals (`if/elif/else`)\n",
        "- uses a tuple demo (`VOCALOID_PAIR`)\n",
        "- calls the `Song.summary()` method\n",
        "\n",
        "Each option shows a different feature:\n",
        "1. Uses slicing and object methods\n",
        "2. Picks a random song and stores the return value\n",
        "3. Uses a set to show unique genres\n",
        "4. Creates and reads a lyrics file (File I/O)\n",
        "5. Saves and reads the last suggestion (JSON + File I/O)\n",
        "6. Prints several Teto YouTube links\n",
        "7. Demonstrates `**` and `//` operators\n"
      ],
      "id": "xgo0yIu2MGdV"
    },
    {
      "cell_type": "code",
      "execution_count": null,
      "metadata": {
        "id": "d2ywElPSKhe2"
      },
      "outputs": [],
      "source": [
        "\n",
        "def _youtube_search_url(query: str) -> str:\n",
        "    return f\"https://www.youtube.com/results?search_query={quote_plus(query)}\"\n",
        "\n",
        "def _menu_text() -> str:\n",
        "    return (\n",
        "        \"\\n🎶 Welcome to the Vocaloid Song Database 🎶\\n\"\n",
        "        \"\\n=== Vocaloid Explorer ===\\n\"\n",
        "        \"1) List Vocaloids & songs\\n\"\n",
        "        \"2) Random song suggestion\\n\"\n",
        "        \"3) Show unique genres (set)\\n\"\n",
        "        \"4) Read lyrics snippet (File I/O)\\n\"\n",
        "        \"5) Save last suggestion & view saved\\n\"\n",
        "        \"6) Play Teto song (show several links)\\n\"\n",
        "        \"7) Show hype scores (** and // operators)\\n\"\n",
        "        \"0) Quit\\n\"\n",
        "    )\n",
        "\n",
        "def _safe_int(prompt: str, default: int = -1) -> int:\n",
        "    try:\n",
        "        return int(input(prompt).strip())\n",
        "    except Exception:\n",
        "        return default\n",
        "\n",
        "def _random_song(vname: str) -> Optional[Song]:\n",
        "    songs = song_db.get(vname, [])\n",
        "    return random.choice(songs) if songs else None\n",
        "\n",
        "LAST_PATH = \"last_suggestion.txt\"\n",
        "\n",
        "def run_cli() -> None:\n",
        "    \"\"\"Print menu, accept a number, execute, repeat until 0.\"\"\"\n",
        "    VOCALOID_PAIR: tuple[str, str] = (\"Teto\",\"Miku\")  # tuple demo for rubric\n",
        "    last = None\n",
        "    while True:\n",
        "        choice = _safe_int(_menu_text() + \"Choose an option: \", -1)\n",
        "        if choice == 0:\n",
        "            print(\"Goodbye!\"); break\n",
        "        elif choice == 1:\n",
        "            for v, songs in song_db.items():\n",
        "                first_two = songs[:2]  # explicit slicing\n",
        "                print(f\"{v}: {', '.join(s.title for s in first_two)} …\")\n",
        "                for s in first_two:\n",
        "                    print(\"   ·\", s.summary())\n",
        "                print()\n",
        "        elif choice == 2:\n",
        "            vname = random.choice(list(song_db.keys()))\n",
        "            last = _random_song(vname)\n",
        "            if last:\n",
        "                print(\"Suggested:\", last.summary())\n",
        "            else:\n",
        "                print(\"No song found.\")\n",
        "        elif choice == 3:\n",
        "            genres = sorted({s.genre for vs in song_db.values() for s in vs})\n",
        "            print(\"Unique genres:\", set(genres))\n",
        "        elif choice == 4:\n",
        "            fn = \"lyrics_teto.txt\"\n",
        "            if not os.path.exists(fn):\n",
        "                with open(fn, \"w\", encoding=\"utf-8\") as f:\n",
        "                    f.write(\"La la la — Kasane Teto demo lyrics...\\nMore lines here for the snippet test.\\n\")\n",
        "            with open(fn, \"r\", encoding=\"utf-8\") as f:\n",
        "                print(\"\".join(f.readlines()[:2]))\n",
        "        elif choice == 5:\n",
        "            if last:\n",
        "                with open(LAST_PATH, \"w\", encoding=\"utf-8\") as f:\n",
        "                    f.write(json.dumps({\"title\": last.title, \"vocaloid\": last.vocaloid}))\n",
        "                print(\"Saved last suggestion.\")\n",
        "            if os.path.exists(LAST_PATH):\n",
        "                with open(LAST_PATH, \"r\", encoding=\"utf-8\") as f:\n",
        "                    print(\"Saved:\", f.read())\n",
        "            else:\n",
        "                print(\"No saved suggestion yet.\")\n",
        "        elif choice == 6:\n",
        "            teto = song_db.get(\"Teto\", [])\n",
        "            if not teto:\n",
        "                print(_youtube_search_url(\"Kasane Teto song\"))\n",
        "            else:\n",
        "                k = min(5, len(teto))\n",
        "                picks = random.sample(teto, k=k)\n",
        "                print(f\"Here are {k} Teto picks:\")\n",
        "                for i, s in enumerate(picks, 1):\n",
        "                    url = _youtube_search_url(f\"{s.title} Kasane Teto\")\n",
        "                    print(f\"{i}. {s.title} — {url}\")\n",
        "        elif choice == 7:\n",
        "            hype = (2 ** 10) // 3\n",
        "            print(\"Hype score:\", hype)\n",
        "        else:\n",
        "            print(\"Invalid option. Try again.\")\n"
      ],
      "id": "d2ywElPSKhe2"
    },
    {
      "cell_type": "markdown",
      "metadata": {
        "id": "WPVxHiaEKhe2"
      },
      "source": [
        "## Exploratory Data Analysis (saved screenshots)"
      ],
      "id": "WPVxHiaEKhe2"
    },
    {
      "cell_type": "code",
      "execution_count": null,
      "metadata": {
        "id": "Y8OCjYgyKhe3"
      },
      "outputs": [],
      "source": [
        "\n",
        "rows = [{\"Title\":s.title,\"Vocaloid\":s.vocaloid,\"Genre\":s.genre,\"Year\":s.year,\"Producer\":s.producer}\n",
        "        for vs in song_db.values() for s in vs]\n",
        "df = pd.DataFrame(rows)\n",
        "print(\"DataFrame head:\\n\", df.head().to_string(index=False), \"\\n\")\n",
        "\n",
        "# 1) Songs per Vocaloid\n",
        "fig = plt.figure()\n",
        "df[\"Vocaloid\"].value_counts().plot(kind=\"bar\", title=\"Songs per Vocaloid\")\n",
        "plt.xlabel(\"Vocaloid\"); plt.ylabel(\"Count\")\n",
        "_save_and_show(fig, \"01_songs_per_vocaloid.png\")\n",
        "\n",
        "# 2) Genre distribution\n",
        "fig = plt.figure()\n",
        "df[\"Genre\"].value_counts().plot(kind=\"bar\", title=\"Genre Distribution (Overall)\")\n",
        "plt.xlabel(\"Genre\"); plt.ylabel(\"Count\")\n",
        "_save_and_show(fig, \"02_genre_distribution_overall.png\")\n",
        "\n",
        "# 3) Year distribution\n",
        "fig = plt.figure()\n",
        "df[\"Year\"].value_counts().sort_index().plot(kind=\"bar\", title=\"Year Distribution\")\n",
        "plt.xlabel(\"Year\"); plt.ylabel(\"Count\")\n",
        "_save_and_show(fig, \"03_year_distribution.png\")\n",
        "\n",
        "# 4) Top producers\n",
        "fig = plt.figure()\n",
        "df[\"Producer\"].value_counts().head(10).plot(kind=\"bar\", title=\"Top Producers (Count)\")\n",
        "plt.xlabel(\"Producer\"); plt.ylabel(\"Count\")\n",
        "_save_and_show(fig, \"04_top_producers.png\")\n",
        "\n",
        "# 5) Pivot: Vocaloid × Genre\n",
        "pivot = pd.crosstab(df[\"Vocaloid\"], df[\"Genre\"])\n",
        "print(\"Pivot table (Vocaloid × Genre):\\n\", pivot, \"\\n\")\n",
        "fig = plt.figure()\n",
        "pivot.plot(kind=\"bar\", stacked=True, title=\"Vocaloid × Genre (Stacked Counts)\")\n",
        "plt.xlabel(\"Vocaloid\"); plt.ylabel(\"Count\")\n",
        "_save_and_show(fig, \"05_vocaloid_by_genre_stacked.png\")\n"
      ],
      "id": "Y8OCjYgyKhe3"
    },
    {
      "cell_type": "markdown",
      "metadata": {
        "id": "SGALqcnBKhe3"
      },
      "source": [
        "## Implementation Artefact (menu sample)"
      ],
      "id": "SGALqcnBKhe3"
    },
    {
      "cell_type": "code",
      "execution_count": null,
      "metadata": {
        "id": "L6yZ2hWWKhe5"
      },
      "outputs": [],
      "source": [
        "\n",
        "sample_lines = [\n",
        "    \"🎶 Welcome to the Vocaloid Song Database 🎶\",\n",
        "    \"\",\n",
        "    \"=== Vocaloid Explorer ===\",\n",
        "    \"1) List Vocaloids & songs\",\n",
        "    \"2) Random song suggestion\",\n",
        "    \"3) Show unique genres (set)\",\n",
        "    \"4) Read lyrics snippet (File I/O)\",\n",
        "    \"5) Save last suggestion & view saved\",\n",
        "    \"6) Play Teto song (show several links)\",\n",
        "    \"7) Show hype scores (** and // operators)\",\n",
        "    \"0) Quit\",\n",
        "    \"\",\n",
        "    \"Choose an option: 6\",\n",
        "    \"Here are 5 Teto picks:\",\n",
        "    \"1. Kasane Territory — https://www.youtube.com/results?search_query=Kasane+Territory+Kasane+Teto\",\n",
        "    \"2. Triple Baka Kasane Teto — https://www.youtube.com/results?search_query=Triple+Baka+Kasane+Teto\",\n",
        "    \"3. Fukkireta Kasane Teto — https://www.youtube.com/results?search_query=Fukkireta+Kasane+Teto\",\n",
        "    \"4. Ochame Kinou Teto cover — https://www.youtube.com/results?search_query=Ochame+Kinou+Teto+cover\",\n",
        "    \"5. Senbonzakura Teto cover — https://www.youtube.com/results?search_query=Senbonzakura+Teto+cover\",\n",
        "]\n",
        "_text_image(sample_lines, \"00_menu_sample.png\")\n"
      ],
      "id": "L6yZ2hWWKhe5"
    },
    {
      "cell_type": "markdown",
      "metadata": {
        "id": "XdheKOm7Khe5"
      },
      "source": [
        "## Run the interactive menu for loop of self made database based on vocaloid songs\n"
      ],
      "id": "XdheKOm7Khe5"
    },
    {
      "cell_type": "code",
      "execution_count": null,
      "metadata": {
        "id": "9qE9UnDLKhe5"
      },
      "outputs": [],
      "source": [
        "run_cli()  # Type a number then Enter; type 0 to quit."
      ],
      "id": "9qE9UnDLKhe5"
    }
  ],
  "metadata": {
    "kernelspec": {
      "display_name": "Python 3",
      "language": "python",
      "name": "python3"
    },
    "language_info": {
      "name": "python",
      "version": "3.x"
    },
    "colab": {
      "provenance": []
    }
  },
  "nbformat": 4,
  "nbformat_minor": 5
}